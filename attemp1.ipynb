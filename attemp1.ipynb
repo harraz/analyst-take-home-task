{
 "cells": [
  {
   "cell_type": "code",
   "execution_count": 1,
   "id": "b9550702",
   "metadata": {},
   "outputs": [],
   "source": [
    "from pyspark.sql import SparkSession\n",
    "from pyspark.sql import functions as Func"
   ]
  },
  {
   "cell_type": "code",
   "execution_count": 2,
   "id": "fc784194",
   "metadata": {},
   "outputs": [
    {
     "name": "stderr",
     "output_type": "stream",
     "text": [
      "25/04/11 17:49:02 WARN Utils: Your hostname, debian-shed resolves to a loopback address: 127.0.1.1; using 192.168.1.11 instead (on interface enp3s0)\n",
      "25/04/11 17:49:02 WARN Utils: Set SPARK_LOCAL_IP if you need to bind to another address\n",
      "Setting default log level to \"WARN\".\n",
      "To adjust logging level use sc.setLogLevel(newLevel). For SparkR, use setLogLevel(newLevel).\n",
      "25/04/11 17:49:03 WARN NativeCodeLoader: Unable to load native-hadoop library for your platform... using builtin-java classes where applicable\n"
     ]
    },
    {
     "name": "stdout",
     "output_type": "stream",
     "text": [
      "Processing file: allergies.csv\n",
      "Processing file: encounters.csv\n"
     ]
    },
    {
     "name": "stderr",
     "output_type": "stream",
     "text": [
      "                                                                                \r"
     ]
    },
    {
     "name": "stdout",
     "output_type": "stream",
     "text": [
      "Processing file: medications.csv\n"
     ]
    },
    {
     "name": "stderr",
     "output_type": "stream",
     "text": [
      "                                                                                \r"
     ]
    },
    {
     "name": "stdout",
     "output_type": "stream",
     "text": [
      "Processing file: patients.csv\n",
      "Processing file: procedures.csv\n"
     ]
    },
    {
     "name": "stderr",
     "output_type": "stream",
     "text": [
      "                                                                                \r"
     ]
    }
   ],
   "source": [
    "spark = SparkSession.builder.appName(\"ModularCSVLoader\").getOrCreate()\n",
    "\n",
    "# Base URL for all the CSV files\n",
    "base_url = \"datasets/\"\n",
    "\n",
    "# List of file names to process\n",
    "file_names = [\n",
    "\"allergies.csv\",\n",
    "\"encounters.csv\",\n",
    "\"medications.csv\",\n",
    "\"patients.csv\",\n",
    "\"procedures.csv\"\n",
    "]\n",
    "\n",
    "# Dictionaries to store the resulting DataFrames for further processing/joining.\n",
    "# pandas_dfs = {}\n",
    "spark_dfs = {}\n",
    "\n",
    "# Process each file and store the DataFrames into the dictionaries\n",
    "for file_name in file_names:\n",
    "    name_key = file_name.replace('.csv', '')\n",
    "    file_url = f\"{base_url}{file_name}\"\n",
    "    print(f\"Processing file: {file_name}\")\n",
    "    spark_df = spark.read.csv(file_url, header=True, inferSchema=True)\n",
    "    # pandas_dfs[name_key] = pd_df\n",
    "    spark_dfs[name_key] = spark_df"
   ]
  },
  {
   "cell_type": "code",
   "execution_count": 3,
   "id": "77f47d77",
   "metadata": {},
   "outputs": [
    {
     "name": "stdout",
     "output_type": "stream",
     "text": [
      "+--------------------+-------------------+-------------------+--------------------+--------------------+--------------+--------+--------------------+------+----------+-----------------+\n",
      "|                  Id|              START|               STOP|             PATIENT|            PROVIDER|ENCOUNTERCLASS|    CODE|         DESCRIPTION|  COST|REASONCODE|REASONDESCRIPTION|\n",
      "+--------------------+-------------------+-------------------+--------------------+--------------------+--------------+--------+--------------------+------+----------+-----------------+\n",
      "|2a917920-2701-49f...|2003-03-31 21:50:51|2003-04-08 13:20:43|708b81c9-21a9-411...|fb37c581-84a6-351...|     emergency|50849002|Emergency Room Ad...|105.37|  55680006|    Drug overdose|\n",
      "|22874b3d-0873-40e...|2012-02-18 21:50:51|2012-02-28 21:12:17|708b81c9-21a9-411...|fb37c581-84a6-351...|     emergency|50849002|Emergency Room Ad...|105.37|  55680006|    Drug overdose|\n",
      "|134c5ee3-1b72-4e3...|2013-08-03 21:50:51|2013-08-13 07:44:52|708b81c9-21a9-411...|fb37c581-84a6-351...|     emergency|50849002|Emergency Room Ad...|105.37|  55680006|    Drug overdose|\n",
      "|6125f147-72d4-48a...|2014-12-08 21:50:51|2014-12-17 12:25:27|708b81c9-21a9-411...|fb37c581-84a6-351...|     emergency|50849002|Emergency Room Ad...|105.37|  55680006|    Drug overdose|\n",
      "|f837dcf8-af7d-43b...|2015-08-31 21:50:51|2015-09-08 12:04:08|708b81c9-21a9-411...|fb37c581-84a6-351...|     emergency|50849002|Emergency Room Ad...|105.37|  55680006|    Drug overdose|\n",
      "+--------------------+-------------------+-------------------+--------------------+--------------------+--------------+--------+--------------------+------+----------+-----------------+\n",
      "only showing top 5 rows\n",
      "\n"
     ]
    }
   ],
   "source": [
    "from pyspark.sql import functions as F\n",
    "\n",
    "enc_df = spark_dfs['encounters'].filter(\n",
    "    (spark_dfs['encounters'].REASONCODE == '55680006') &\n",
    "    (spark_dfs['encounters'].START > F.lit(\"1999-07-15 00:00:00\").cast(\"timestamp\"))\n",
    ")\n",
    "\n",
    "enc_df.show(5)\n"
   ]
  },
  {
   "cell_type": "code",
   "execution_count": 4,
   "id": "c10012af",
   "metadata": {},
   "outputs": [
    {
     "name": "stdout",
     "output_type": "stream",
     "text": [
      "+--------------------+----------+---------+-----------+---------+----------+------+-----------+----------+------+------------+-------+-----+------------+------+--------------------+--------------------+-------------+------------+-----+\n",
      "|                  Id| BIRTHDATE|DEATHDATE|        SSN|  DRIVERS|  PASSPORT|PREFIX|      FIRST|      LAST|SUFFIX|      MAIDEN|MARITAL| RACE|   ETHNICITY|GENDER|          BIRTHPLACE|             ADDRESS|         CITY|       STATE|  ZIP|\n",
      "+--------------------+----------+---------+-----------+---------+----------+------+-----------+----------+------+------------+-------+-----+------------+------+--------------------+--------------------+-------------+------------+-----+\n",
      "|3d8e57b2-3de5-4fb...|1943-03-11|       NA|999-86-7250|S99939389| X3970685X|  Mrs.|   Allyn942|Kreiger457|    NA|Bartoletti50|      M|asian|asian_indian|     F|Muhlenberg  Penns...|372 Marks Heights...|Middle Paxton|Pennsylvania|   NA|\n",
      "|7f4ea9fb-f436-411...|1980-09-28|       NA|999-90-4314|S99920355|X28211313X|   Mr.|   Kieth891|   King743|    NA|          NA|      M|white|       irish|     M|Overfield  Pennsy...|428 Strosin Fort ...|     Limerick|Pennsylvania|   NA|\n",
      "|553b00b2-347c-48e...|1973-02-22|       NA|999-78-9189|S99980820| X9988931X|  Mrs.|Domenica436|  Fadel536|    NA|  Labadie908|      M|white|    scottish|     F|Wilkins  Pennsylv...|   519 Ziemann Trail|   Washington|Pennsylvania|15301|\n",
      "|50f799aa-740c-4da...|1955-03-30|       NA|999-49-5162|S99961309|X17464073X|   Mr.|   Kelly223| Turner526|    NA|          NA|      M|white|       irish|     M|Manor  Pennsylvan...|158 Dickens Corne...|      Manheim|Pennsylvania|17545|\n",
      "|bcef3b7a-0380-4b7...|2009-05-24|       NA|999-74-7736|       NA|        NA|    NA|    Zack583|    Purdy2|    NA|          NA|     NA|white|      german|     M|Cranberry  Pennsy...| 1000 Vandervort Run|   Washington|Pennsylvania|15301|\n",
      "+--------------------+----------+---------+-----------+---------+----------+------+-----------+----------+------+------------+-------+-----+------------+------+--------------------+--------------------+-------------+------------+-----+\n",
      "only showing top 5 rows\n",
      "\n"
     ]
    }
   ],
   "source": [
    "patient_df = spark_dfs['patients'].filter(\n",
    "    (spark_dfs['patients'].BIRTHDATE.isNotNull())\n",
    ")\n",
    "\n",
    "patient_df.show(5)"
   ]
  },
  {
   "cell_type": "code",
   "execution_count": 5,
   "id": "58bd6837",
   "metadata": {},
   "outputs": [
    {
     "name": "stdout",
     "output_type": "stream",
     "text": [
      "+--------------------+--------------------+----------+---------+--------------------+-------------------+-------------------+------------+\n",
      "|              pat_Id|              enc_Id| BIRTHDATE|DEATHDATE|      enc_PATIENT_id|          enc_START|           enc_STOP|AGE_AT_VISIT|\n",
      "+--------------------+--------------------+----------+---------+--------------------+-------------------+-------------------+------------+\n",
      "|708b81c9-21a9-411...|22874b3d-0873-40e...|1986-10-28|       NA|708b81c9-21a9-411...|2012-02-18 21:50:51|2012-02-28 21:12:17|          25|\n",
      "|708b81c9-21a9-411...|134c5ee3-1b72-4e3...|1986-10-28|       NA|708b81c9-21a9-411...|2013-08-03 21:50:51|2013-08-13 07:44:52|          26|\n",
      "|708b81c9-21a9-411...|6125f147-72d4-48a...|1986-10-28|       NA|708b81c9-21a9-411...|2014-12-08 21:50:51|2014-12-17 12:25:27|          28|\n",
      "|708b81c9-21a9-411...|f837dcf8-af7d-43b...|1986-10-28|       NA|708b81c9-21a9-411...|2015-08-31 21:50:51|2015-09-08 12:04:08|          28|\n",
      "|65b093e4-b353-447...|010594a6-a6ff-487...|1995-12-03|       NA|65b093e4-b353-447...|2018-12-10 00:59:35|2018-12-20 22:57:39|          23|\n",
      "+--------------------+--------------------+----------+---------+--------------------+-------------------+-------------------+------------+\n",
      "only showing top 5 rows\n",
      "\n"
     ]
    }
   ],
   "source": [
    "from pyspark.sql import functions as F\n",
    "\n",
    "# Alias the DataFrames for clarity\n",
    "pat = patient_df.alias(\"pat\")\n",
    "enc = enc_df.alias(\"enc\")\n",
    "\n",
    "# Join on patient Id. Use proper aliases when referring to columns.\n",
    "joined_df = pat.join(enc, pat[\"Id\"] == enc[\"PATIENT\"], \"inner\")\n",
    "\n",
    "# Select the columns of interest from each DataFrame and rename encounter columns to avoid ambiguity.\n",
    "joined_df = joined_df.select(\n",
    "    pat[\"Id\"].alias(\"pat_Id\"), enc['id'].alias(\"enc_Id\"),\n",
    "    pat[\"BIRTHDATE\"], pat['DEATHDATE'],\n",
    "    enc[\"PATIENT\"].alias(\"enc_PATIENT_id\"),\n",
    "    enc[\"START\"].alias(\"enc_START\"),\n",
    "    enc[\"STOP\"].alias(\"enc_STOP\")\n",
    ")\n",
    "\n",
    "# Calculate the patient's age at the time of the encounter.\n",
    "# Assuming \"BIRTHDATE\" is in a format recognized by Spark for date conversion.\n",
    "joined_df = joined_df.withColumn(\n",
    "    \"AGE_AT_VISIT\",\n",
    "    F.floor(F.datediff(F.col(\"enc_START\").cast(\"date\"), F.col(\"BIRTHDATE\").cast(\"date\")) / 365)\n",
    ")\n",
    "\n",
    "# Filter the records where age is between 18 and 35\n",
    "cohort_df = joined_df.filter((F.col(\"AGE_AT_VISIT\") >= 18) & (F.col(\"AGE_AT_VISIT\") <= 35))\n",
    "\n",
    "cohort_df.show(5)\n"
   ]
  },
  {
   "cell_type": "code",
   "execution_count": 6,
   "id": "c3eab1fb",
   "metadata": {},
   "outputs": [
    {
     "name": "stdout",
     "output_type": "stream",
     "text": [
      "+---------+------------------+\n",
      "|DEATHDATE|DEATH_AT_VISIT_IND|\n",
      "+---------+------------------+\n",
      "|NA       |0                 |\n",
      "|NA       |0                 |\n",
      "|NA       |0                 |\n",
      "|NA       |0                 |\n",
      "|NA       |0                 |\n",
      "+---------+------------------+\n",
      "only showing top 5 rows\n",
      "\n"
     ]
    }
   ],
   "source": [
    "\n",
    "cohort_df = cohort_df.withColumn(\n",
    "    \"DEATH_AT_VISIT_IND\",\n",
    "    Func.when(\n",
    "        # Check that DEATHDATE is not \"NA\" and falls between the START and STOP dates:\n",
    "        (Func.col(\"DEATHDATE\") != \"NA\") &\n",
    "        (Func.to_timestamp(Func.col(\"DEATHDATE\").cast(\"timestamp\"), \"yyyy-MM-dd HH:mm:ss\").between(Func.col('enc_START').cast(\"timestamp\"), Func.col('enc_STOP').cast(\"timestamp\"))),\n",
    "        1\n",
    "    ).otherwise(0)\n",
    ")\n",
    "\n",
    "# For debugging or previewing results:\n",
    "cohort_df.select(\"DEATHDATE\", \"DEATH_AT_VISIT_IND\").show(5, truncate=False)\n"
   ]
  },
  {
   "cell_type": "code",
   "execution_count": 7,
   "id": "af99f136",
   "metadata": {},
   "outputs": [
    {
     "name": "stdout",
     "output_type": "stream",
     "text": [
      "+------------------------------------+------------------------------------+----------+----------+------------------------------------+-------------------+-------------------+------------+------------------+\n",
      "|pat_Id                              |enc_Id                              |BIRTHDATE |DEATHDATE |enc_PATIENT_id                      |enc_START          |enc_STOP           |AGE_AT_VISIT|DEATH_AT_VISIT_IND|\n",
      "+------------------------------------+------------------------------------+----------+----------+------------------------------------+-------------------+-------------------+------------+------------------+\n",
      "|dacea80b-75dd-42d6-a5c0-be369c3e4ebf|1deb51e9-ef0b-4013-b46f-f8efcd836842|1979-12-11|2009-08-24|dacea80b-75dd-42d6-a5c0-be369c3e4ebf|2009-08-20 01:30:34|2009-08-24 21:37:59|29          |1                 |\n",
      "|978114f9-f9f2-4361-b64d-8045ab8f1602|41c9fbf6-a7d9-48a1-93fc-9fa32d554083|1976-01-07|2009-09-01|978114f9-f9f2-4361-b64d-8045ab8f1602|2009-08-22 16:34:32|2009-09-01 17:22:53|33          |1                 |\n",
      "|7cdbf215-8dce-4641-ae53-ea0f9a4c84f0|673a3777-537e-4122-ae94-63d9349f42c6|1987-04-11|2017-07-24|7cdbf215-8dce-4641-ae53-ea0f9a4c84f0|2017-07-18 20:57:47|2017-07-24 16:22:05|30          |1                 |\n",
      "|5fa3711b-4012-4c34-aaf8-0097d0785418|eef21ec6-4938-4a57-a782-ba5b38efabe2|1985-04-19|2013-10-20|5fa3711b-4012-4c34-aaf8-0097d0785418|2013-10-14 00:45:01|2013-10-20 01:59:20|28          |1                 |\n",
      "|443dabde-8301-451f-af6a-da316e3b96a7|3a01a5cb-d7d8-450b-ad2d-db120fc9cf27|1985-11-06|2015-08-30|443dabde-8301-451f-af6a-da316e3b96a7|2015-08-25 10:19:41|2015-08-30 23:32:44|29          |1                 |\n",
      "+------------------------------------+------------------------------------+----------+----------+------------------------------------+-------------------+-------------------+------------+------------------+\n",
      "only showing top 5 rows\n",
      "\n"
     ]
    }
   ],
   "source": [
    "# Filter records where DEATH_AT_VISIT_IND = 1\n",
    "test_cohort_df = cohort_df.filter(Func.col(\"DEATH_AT_VISIT_IND\") == 1)\n",
    "\n",
    "# Show the filtered records\n",
    "test_cohort_df.show(5, truncate=False)"
   ]
  },
  {
   "cell_type": "code",
   "execution_count": 8,
   "id": "04efbf8b",
   "metadata": {},
   "outputs": [
    {
     "name": "stderr",
     "output_type": "stream",
     "text": [
      "                                                                                \r"
     ]
    },
    {
     "name": "stdout",
     "output_type": "stream",
     "text": [
      "+----------+----------+------------------------------------+------------------------------------+-------+------------------------------------------------------------+------+---------+---------+----------+-----------------+------------------------------------+------------------------------------+----------+----------+------------------------------------+-------------------+-------------------+------------+------------------+------------------+\n",
      "|med_START |med_STOP  |med_PATIENT                         |ENCOUNTER                           |CODE   |DESCRIPTION                                                 |COST  |DISPENSES|TOTALCOST|REASONCODE|REASONDESCRIPTION|pat_Id                              |enc_Id                              |BIRTHDATE |DEATHDATE |enc_PATIENT_id                      |enc_START          |enc_STOP           |AGE_AT_VISIT|DEATH_AT_VISIT_IND|COUNT_CURRENT_MEDS|\n",
      "+----------+----------+------------------------------------+------------------------------------+-------+------------------------------------------------------------+------+---------+---------+----------+-----------------+------------------------------------+------------------------------------+----------+----------+------------------------------------+-------------------+-------------------+------------+------------------+------------------+\n",
      "|2011-03-02|2011-04-06|21f0495c-0b03-47ed-b676-57d9f314bc06|79078661-e99b-4f38-8157-970f854b609e|1310197|Acetaminophen 300 MG / HYDROcodone Bitartrate 5 MG [Vicodin]|30.41 |1        |30.41    |NA        |NA               |21f0495c-0b03-47ed-b676-57d9f314bc06|c9f164ad-9dc2-4f2d-83ff-29c14100416d|1981-12-06|NA        |21f0495c-0b03-47ed-b676-57d9f314bc06|2006-03-30 21:40:45|2006-04-09 00:10:49|24          |0                 |1                 |\n",
      "|2019-04-07|NA        |12cb2389-4bb3-4cc5-a124-0ce7f5d27e00|3714e5bb-c4a8-4c02-bf83-673c3f5dde4d|316672 |Simvistatin 10 MG                                           |214.96|12       |2579.52  |55822004  |Hyperlipidemia   |12cb2389-4bb3-4cc5-a124-0ce7f5d27e00|a245437a-78c7-4c62-86c6-887b699fe915|1966-07-23|NA        |12cb2389-4bb3-4cc5-a124-0ce7f5d27e00|2002-01-04 04:44:58|2002-01-11 20:50:39|35          |0                 |1                 |\n",
      "|2018-01-11|2019-01-06|5fa3711b-4012-4c34-aaf8-0097d0785418|68988987-ad1e-40c3-8c7d-5fb7e099480b|831533 |Errin 28 Day Pack                                           |26.57 |12       |318.84   |NA        |NA               |5fa3711b-4012-4c34-aaf8-0097d0785418|eef21ec6-4938-4a57-a782-ba5b38efabe2|1985-04-19|2013-10-20|5fa3711b-4012-4c34-aaf8-0097d0785418|2013-10-14 00:45:01|2013-10-20 01:59:20|28          |1                 |1                 |\n",
      "|2010-02-21|2011-02-16|abb2ffbf-b2a8-44c6-86a4-7ba0f0034ccd|dd750928-7180-4c8d-a5c9-e3aaf7eb3699|389221 |Etonogestrel 68 MG Drug Implant                             |377.15|12       |4525.8   |NA        |NA               |abb2ffbf-b2a8-44c6-86a4-7ba0f0034ccd|8e329c1b-62c0-45dc-94aa-6a43958861d4|1969-07-05|2017-04-14|abb2ffbf-b2a8-44c6-86a4-7ba0f0034ccd|2004-04-23 05:55:37|2004-05-05 10:43:16|34          |0                 |1                 |\n",
      "|2015-01-27|2015-02-10|dacea80b-75dd-42d6-a5c0-be369c3e4ebf|c3c43259-21c7-4bbc-accc-011c50a0ef77|310965 |Ibuprofen 200 MG Oral Tablet                                |5.76  |1        |5.76     |NA        |NA               |dacea80b-75dd-42d6-a5c0-be369c3e4ebf|1deb51e9-ef0b-4013-b46f-f8efcd836842|1979-12-11|2009-08-24|dacea80b-75dd-42d6-a5c0-be369c3e4ebf|2009-08-20 01:30:34|2009-08-24 21:37:59|29          |1                 |2                 |\n",
      "+----------+----------+------------------------------------+------------------------------------+-------+------------------------------------------------------------+------+---------+---------+----------+-----------------+------------------------------------+------------------------------------+----------+----------+------------------------------------+-------------------+-------------------+------------+------------------+------------------+\n",
      "only showing top 5 rows\n",
      "\n"
     ]
    }
   ],
   "source": [
    "# COUNT_CURRENT_MEDS: Count of active medications at the start of the drug overdose encounter\n",
    "\n",
    "from pyspark.sql import functions as F\n",
    "\n",
    "# Alias the DataFrames for clarity\n",
    "med = spark_dfs['medications'].alias(\"m\")\n",
    "cohort = cohort_df.alias(\"c\")\n",
    "\n",
    "# Join the DataFrames using their aliases for clarity in the join condition\n",
    "med_df = med.join(cohort, F.col(\"c.pat_id\") == F.col(\"m.PATIENT\"), \"inner\") \\\n",
    "    .filter(\n",
    "        F.col(\"m.START\").cast(\"timestamp\") >= F.col(\"c.enc_START\").cast(\"timestamp\")\n",
    "    )\n",
    "\n",
    "# Now use the actual column names for renaming; after join, med.PATIENT will appear as \"PATIENT\"\n",
    "med_df = med_df.withColumnRenamed(\"PATIENT\", \"med_PATIENT\") \\\n",
    "    .withColumnRenamed(\"START\", \"med_START\") \\\n",
    "    .withColumnRenamed(\"STOP\", \"med_STOP\") \n",
    "\n",
    "grouped_med = med_df.groupBy(\n",
    "    \"CODE\", \"ENCOUNTER\", \"med_PATIENT\"\n",
    ").agg(F.count(\"*\").alias(\"med_cnt\"))\n",
    "\n",
    "grouped_med = grouped_med.groupBy(\"med_PATIENT\", \"ENCOUNTER\").agg(\n",
    "    F.sum(\"med_cnt\").alias(\"COUNT_CURRENT_MEDS\")\n",
    ")\n",
    "\n",
    "med_df = med_df.join(grouped_med,\n",
    "    (med_df[\"med_PATIENT\"] == grouped_med[\"med_PATIENT\"]) &\n",
    "    (med_df[\"ENCOUNTER\"] == grouped_med[\"ENCOUNTER\"]),\n",
    "    \"inner\"\n",
    ").select(\n",
    "    med_df[\"*\"],\n",
    "    grouped_med[\"COUNT_CURRENT_MEDS\"]\n",
    ")\n",
    "\n",
    "med_df.show(5, truncate=False)\n"
   ]
  },
  {
   "cell_type": "code",
   "execution_count": 9,
   "id": "97cf0988",
   "metadata": {},
   "outputs": [
    {
     "name": "stderr",
     "output_type": "stream",
     "text": [
      "                                                                                \r"
     ]
    },
    {
     "name": "stdout",
     "output_type": "stream",
     "text": [
      "[316049, 429503]\n"
     ]
    },
    {
     "name": "stderr",
     "output_type": "stream",
     "text": [
      "                                                                                \r"
     ]
    },
    {
     "name": "stdout",
     "output_type": "stream",
     "text": [
      "+----------+----------+------------------------------------+------------------------------------+-------+------------------------------------------------------------+------+---------+---------+----------+-----------------+------------------------------------+------------------------------------+----------+----------+------------------------------------+-------------------+-------------------+------------+------------------+------------------+------------------+\n",
      "|med_START |med_STOP  |med_PATIENT                         |ENCOUNTER                           |CODE   |DESCRIPTION                                                 |COST  |DISPENSES|TOTALCOST|REASONCODE|REASONDESCRIPTION|pat_Id                              |enc_Id                              |BIRTHDATE |DEATHDATE |enc_PATIENT_id                      |enc_START          |enc_STOP           |AGE_AT_VISIT|DEATH_AT_VISIT_IND|COUNT_CURRENT_MEDS|CURRENT_OPIOID_IND|\n",
      "+----------+----------+------------------------------------+------------------------------------+-------+------------------------------------------------------------+------+---------+---------+----------+-----------------+------------------------------------+------------------------------------+----------+----------+------------------------------------+-------------------+-------------------+------------+------------------+------------------+------------------+\n",
      "|2011-03-02|2011-04-06|21f0495c-0b03-47ed-b676-57d9f314bc06|79078661-e99b-4f38-8157-970f854b609e|1310197|Acetaminophen 300 MG / HYDROcodone Bitartrate 5 MG [Vicodin]|30.41 |1        |30.41    |NA        |NA               |21f0495c-0b03-47ed-b676-57d9f314bc06|c9f164ad-9dc2-4f2d-83ff-29c14100416d|1981-12-06|NA        |21f0495c-0b03-47ed-b676-57d9f314bc06|2006-03-30 21:40:45|2006-04-09 00:10:49|24          |0                 |1                 |0                 |\n",
      "|2019-04-07|NA        |12cb2389-4bb3-4cc5-a124-0ce7f5d27e00|3714e5bb-c4a8-4c02-bf83-673c3f5dde4d|316672 |Simvistatin 10 MG                                           |214.96|12       |2579.52  |55822004  |Hyperlipidemia   |12cb2389-4bb3-4cc5-a124-0ce7f5d27e00|a245437a-78c7-4c62-86c6-887b699fe915|1966-07-23|NA        |12cb2389-4bb3-4cc5-a124-0ce7f5d27e00|2002-01-04 04:44:58|2002-01-11 20:50:39|35          |0                 |1                 |0                 |\n",
      "|2018-01-11|2019-01-06|5fa3711b-4012-4c34-aaf8-0097d0785418|68988987-ad1e-40c3-8c7d-5fb7e099480b|831533 |Errin 28 Day Pack                                           |26.57 |12       |318.84   |NA        |NA               |5fa3711b-4012-4c34-aaf8-0097d0785418|eef21ec6-4938-4a57-a782-ba5b38efabe2|1985-04-19|2013-10-20|5fa3711b-4012-4c34-aaf8-0097d0785418|2013-10-14 00:45:01|2013-10-20 01:59:20|28          |1                 |1                 |0                 |\n",
      "|2010-02-21|2011-02-16|abb2ffbf-b2a8-44c6-86a4-7ba0f0034ccd|dd750928-7180-4c8d-a5c9-e3aaf7eb3699|389221 |Etonogestrel 68 MG Drug Implant                             |377.15|12       |4525.8   |NA        |NA               |abb2ffbf-b2a8-44c6-86a4-7ba0f0034ccd|8e329c1b-62c0-45dc-94aa-6a43958861d4|1969-07-05|2017-04-14|abb2ffbf-b2a8-44c6-86a4-7ba0f0034ccd|2004-04-23 05:55:37|2004-05-05 10:43:16|34          |0                 |1                 |0                 |\n",
      "|2015-01-27|2015-02-10|dacea80b-75dd-42d6-a5c0-be369c3e4ebf|c3c43259-21c7-4bbc-accc-011c50a0ef77|310965 |Ibuprofen 200 MG Oral Tablet                                |5.76  |1        |5.76     |NA        |NA               |dacea80b-75dd-42d6-a5c0-be369c3e4ebf|1deb51e9-ef0b-4013-b46f-f8efcd836842|1979-12-11|2009-08-24|dacea80b-75dd-42d6-a5c0-be369c3e4ebf|2009-08-20 01:30:34|2009-08-24 21:37:59|29          |1                 |2                 |0                 |\n",
      "+----------+----------+------------------------------------+------------------------------------+-------+------------------------------------------------------------+------+---------+---------+----------+-----------------+------------------------------------+------------------------------------+----------+----------+------------------------------------+-------------------+-------------------+------------+------------------+------------------+------------------+\n",
      "only showing top 5 rows\n",
      "\n"
     ]
    }
   ],
   "source": [
    "# Calcuale and add CURRENT_OPIOID_IND\t\n",
    "# if the patient had at least one active medication at the start of the overdose encounter that is on the Opioids List (provided below)\n",
    "\n",
    "# GET CODES FOR  Opioids List:\n",
    "# Hydromorphone 325Mg\n",
    "# Fentanyl – 100 MCG\n",
    "# Oxycodone-acetaminophen 100 Ml\n",
    "\n",
    "from pyspark.sql import functions as F\n",
    "\n",
    "patterns = [\n",
    "    \"(?i)^Hydromorphone 325\", \n",
    "    \"(?i)^Fentanyl\", \n",
    "    \"(?i)^Oxycodone-acetaminophen 100\"\n",
    "]\n",
    "\n",
    "# Build a filter condition by OR-ing each pattern on the DESCRIPTION column\n",
    "filter_condition = None\n",
    "for pattern in patterns:\n",
    "    cond = F.col(\"DESCRIPTION\").rlike(pattern)\n",
    "    filter_condition = cond if filter_condition is None else filter_condition | cond\n",
    "\n",
    "# Filter med_df using the combined condition and return only the distinct CODE column.\n",
    "# Then extract the CODE values as a Python list.\n",
    "opioid_codes_list = [row[\"CODE\"] for row in med_df.filter(filter_condition).select(\"CODE\").distinct().collect()]\n",
    "\n",
    "# Print the resulting list of opioid codes\n",
    "print(opioid_codes_list)\n",
    "\n",
    "# Add the CURRENT_OPIOID_IND column: 1 if med_df.CODE is in restricted_codes_list, else 0.\n",
    "cohort_df = med_df.withColumn(\n",
    "    \"CURRENT_OPIOID_IND\",\n",
    "    F.when(F.col(\"CODE\").isin(*opioid_codes_list), F.lit(1)).otherwise(F.lit(0))\n",
    ")\n",
    "\n",
    "# Show the results\n",
    "cohort_df.show(5, truncate=False)"
   ]
  },
  {
   "cell_type": "code",
   "execution_count": 10,
   "id": "7cd8f45d",
   "metadata": {},
   "outputs": [
    {
     "name": "stderr",
     "output_type": "stream",
     "text": [
      "                                                                                \r"
     ]
    },
    {
     "name": "stdout",
     "output_type": "stream",
     "text": [
      "+----------+----------+------------------------------------+------------------------------------+------+--------------------+------+---------+---------+----------+-----------------+------------------------------------+------------------------------------+----------+----------+------------------------------------+-------------------+-------------------+------------+------------------+------------------+------------------+\n",
      "|med_START |med_STOP  |med_PATIENT                         |ENCOUNTER                           |CODE  |DESCRIPTION         |COST  |DISPENSES|TOTALCOST|REASONCODE|REASONDESCRIPTION|pat_Id                              |enc_Id                              |BIRTHDATE |DEATHDATE |enc_PATIENT_id                      |enc_START          |enc_STOP           |AGE_AT_VISIT|DEATH_AT_VISIT_IND|COUNT_CURRENT_MEDS|CURRENT_OPIOID_IND|\n",
      "+----------+----------+------------------------------------+------------------------------------+------+--------------------+------+---------+---------+----------+-----------------+------------------------------------+------------------------------------+----------+----------+------------------------------------+-------------------+-------------------+------------+------------------+------------------+------------------+\n",
      "|2011-03-10|2011-04-09|ebe51a1a-1447-4bb5-a638-ac0163db989b|21f7138b-2d47-48a9-b243-c29c0e229c2d|429503|Fentanyl 100 MCG    |214.96|1        |214.96   |59621000  |Pain Relief      |ebe51a1a-1447-4bb5-a638-ac0163db989b|bbe83c18-5874-425f-928f-77cc7d0c74c6|1992-08-06|NA        |ebe51a1a-1447-4bb5-a638-ac0163db989b|2010-12-16 08:23:35|2010-12-28 07:27:19|18          |0                 |1                 |1                 |\n",
      "|2010-07-07|NA        |0ea047ce-faa7-4320-be2f-672a93fc9cfb|59114970-f6e0-4a21-b0e7-232b1a1e1518|316049|Hydromorphone 325 MG|214.96|109      |23430.64 |59621000  |Pain Relief      |0ea047ce-faa7-4320-be2f-672a93fc9cfb|f384861a-7926-4cf3-9f06-8b2b28836371|1991-07-17|2011-06-06|0ea047ce-faa7-4320-be2f-672a93fc9cfb|2009-12-07 20:01:53|2009-12-16 13:51:53|18          |0                 |1                 |1                 |\n",
      "|2010-01-18|NA        |dbfec58c-64a9-4fe0-b095-64b03af7fd67|8a6011fa-9c60-4661-aa3b-32066e5b76c3|316049|Hydromorphone 325 MG|214.96|115      |24720.4  |59621000  |Pain Relief      |dbfec58c-64a9-4fe0-b095-64b03af7fd67|5664eb64-9ce1-4bdf-9706-469cc4bf2d67|1978-11-06|2001-02-24|dbfec58c-64a9-4fe0-b095-64b03af7fd67|2001-02-18 23:17:27|2001-02-24 18:53:41|22          |1                 |1                 |1                 |\n",
      "|2018-07-12|2018-08-11|3b3b7748-a006-466d-9788-b3d6e922ffc4|a6c595a6-a125-4c60-a813-c6dbb92c7f14|429503|Fentanyl 100 MCG    |214.96|1        |214.96   |59621000  |Pain Relief      |3b3b7748-a006-466d-9788-b3d6e922ffc4|b9a23377-8962-4da1-b6fc-bbf8581f895e|1976-11-25|2010-02-17|3b3b7748-a006-466d-9788-b3d6e922ffc4|2002-09-19 03:17:53|2002-09-27 00:48:54|25          |0                 |2                 |1                 |\n",
      "|2018-07-12|2018-08-11|3b3b7748-a006-466d-9788-b3d6e922ffc4|a6c595a6-a125-4c60-a813-c6dbb92c7f14|429503|Fentanyl 100 MCG    |214.96|1        |214.96   |59621000  |Pain Relief      |3b3b7748-a006-466d-9788-b3d6e922ffc4|9fcf2e25-4c60-45c6-a10a-55ef1415569d|1976-11-25|2010-02-17|3b3b7748-a006-466d-9788-b3d6e922ffc4|2010-02-08 03:17:53|2010-02-17 02:46:40|33          |1                 |2                 |1                 |\n",
      "+----------+----------+------------------------------------+------------------------------------+------+--------------------+------+---------+---------+----------+-----------------+------------------------------------+------------------------------------+----------+----------+------------------------------------+-------------------+-------------------+------------+------------------+------------------+------------------+\n",
      "\n"
     ]
    }
   ],
   "source": [
    "# Filter records where DEATH_AT_VISIT_IND = 1\n",
    "test_cohort_df = cohort_df.filter(Func.col(\"CURRENT_OPIOID_IND\") == 1)\n",
    "\n",
    "# Show the filtered records\n",
    "test_cohort_df.show(5, truncate=False)"
   ]
  },
  {
   "cell_type": "code",
   "execution_count": 11,
   "id": "b074fdec",
   "metadata": {},
   "outputs": [
    {
     "name": "stdout",
     "output_type": "stream",
     "text": [
      "root\n",
      " |-- med_START: date (nullable = true)\n",
      " |-- med_STOP: string (nullable = true)\n",
      " |-- med_PATIENT: string (nullable = true)\n",
      " |-- ENCOUNTER: string (nullable = true)\n",
      " |-- CODE: integer (nullable = true)\n",
      " |-- DESCRIPTION: string (nullable = true)\n",
      " |-- COST: double (nullable = true)\n",
      " |-- DISPENSES: integer (nullable = true)\n",
      " |-- TOTALCOST: double (nullable = true)\n",
      " |-- REASONCODE: string (nullable = true)\n",
      " |-- REASONDESCRIPTION: string (nullable = true)\n",
      " |-- pat_Id: string (nullable = true)\n",
      " |-- enc_Id: string (nullable = true)\n",
      " |-- BIRTHDATE: date (nullable = true)\n",
      " |-- DEATHDATE: string (nullable = true)\n",
      " |-- enc_PATIENT_id: string (nullable = true)\n",
      " |-- enc_START: timestamp (nullable = true)\n",
      " |-- enc_STOP: timestamp (nullable = true)\n",
      " |-- AGE_AT_VISIT: long (nullable = true)\n",
      " |-- DEATH_AT_VISIT_IND: integer (nullable = false)\n",
      " |-- COUNT_CURRENT_MEDS: long (nullable = true)\n",
      " |-- CURRENT_OPIOID_IND: integer (nullable = false)\n",
      "\n"
     ]
    }
   ],
   "source": [
    "cohort_df.printSchema()"
   ]
  },
  {
   "cell_type": "code",
   "execution_count": 12,
   "id": "128ec403",
   "metadata": {},
   "outputs": [
    {
     "name": "stderr",
     "output_type": "stream",
     "text": [
      "25/04/11 17:49:37 WARN SparkStringUtils: Truncated the string representation of a plan since it was too large. This behavior can be adjusted by setting 'spark.sql.debug.maxToStringFields'.\n",
      "                                                                                \r"
     ]
    },
    {
     "name": "stdout",
     "output_type": "stream",
     "text": [
      "+----------+----------+------------------------------------+------------------------------------+------+-----------------------------------------+-----+---------+---------+----------+------------------------------------+------------------------------------+------------------------------------+----------+---------+------------------------------------+-------------------+-------------------+------------+------------------+------------------+------------------+-------------------+---------+----------------------+----------------------+\n",
      "|med_START |med_STOP  |med_PATIENT                         |ENCOUNTER                           |CODE  |DESCRIPTION                              |COST |DISPENSES|TOTALCOST|REASONCODE|REASONDESCRIPTION                   |pat_Id                              |enc_Id                              |BIRTHDATE |DEATHDATE|enc_PATIENT_id                      |enc_START          |enc_STOP           |AGE_AT_VISIT|DEATH_AT_VISIT_IND|COUNT_CURRENT_MEDS|CURRENT_OPIOID_IND|next_enc_START     |diff_days|READMISSION_90_DAY_IND|READMISSION_30_DAY_IND|\n",
      "+----------+----------+------------------------------------+------------------------------------+------+-----------------------------------------+-----+---------+---------+----------+------------------------------------+------------------------------------+------------------------------------+----------+---------+------------------------------------+-------------------+-------------------+------------+------------------+------------------+------------------+-------------------+---------+----------------------+----------------------+\n",
      "|2015-07-18|2016-07-12|111e10b5-1b38-4aeb-a73f-284b6c2190b9|8c45a52a-fe71-4bc5-ac30-f0220b96fb43|831533|Errin 28 Day Pack                        |20.55|12       |246.6    |NA        |NA                                  |111e10b5-1b38-4aeb-a73f-284b6c2190b9|52e0e16a-7115-4de3-bf9a-b58d009f0ebc|1989-03-11|NA       |111e10b5-1b38-4aeb-a73f-284b6c2190b9|2012-09-25 23:40:06|2012-10-02 21:13:34|23          |0                 |4                 |0                 |2012-12-11 23:40:06|77       |1                     |0                     |\n",
      "|2018-08-01|NA        |58240155-9e6a-486f-ae16-3d82c037f758|1aa93ef1-22c9-4c5d-800c-112b1038feb4|389221|Etonogestrel 68 MG Drug Implant          |503.3|11       |5536.3   |NA        |NA                                  |58240155-9e6a-486f-ae16-3d82c037f758|4768d1d1-d298-4964-b32f-8cab03a2acf1|1989-08-17|NA       |58240155-9e6a-486f-ae16-3d82c037f758|2018-04-30 20:30:35|2018-05-07 03:39:09|28          |0                 |4                 |0                 |2018-07-20 20:30:35|81       |1                     |0                     |\n",
      "|2013-01-17|2013-01-26|68b96ec6-1679-4dfe-9bc4-d47d267a3f29|da632ca0-6159-4a1c-9b69-60ce37462874|834102|Penicillin V Potassium 500 MG Oral Tablet|9.89 |1        |9.89     |43878008  |Streptococcal sore throat (disorder)|68b96ec6-1679-4dfe-9bc4-d47d267a3f29|a6eec756-c5ea-4aeb-8b6b-1a28a5be3d92|1976-10-16|NA       |68b96ec6-1679-4dfe-9bc4-d47d267a3f29|2010-08-25 06:41:50|2010-08-31 11:31:42|33          |0                 |4                 |0                 |2010-10-27 06:41:50|63       |1                     |0                     |\n",
      "|2013-01-17|2013-01-26|68b96ec6-1679-4dfe-9bc4-d47d267a3f29|da632ca0-6159-4a1c-9b69-60ce37462874|834102|Penicillin V Potassium 500 MG Oral Tablet|9.89 |1        |9.89     |43878008  |Streptococcal sore throat (disorder)|68b96ec6-1679-4dfe-9bc4-d47d267a3f29|887bd7ac-d982-41ce-be7e-5ce7aafc2c71|1976-10-16|NA       |68b96ec6-1679-4dfe-9bc4-d47d267a3f29|2010-10-27 06:41:50|2010-11-04 18:47:46|34          |0                 |4                 |0                 |2011-01-23 06:41:50|88       |1                     |0                     |\n",
      "|2019-06-03|NA        |8ac9185a-b37d-49ff-b3da-b1882dfa5e11|b4874308-8e3e-4f18-9840-c178745539d1|749762|Seasonique 91 Day Pack                   |37.32|1        |37.32    |NA        |NA                                  |8ac9185a-b37d-49ff-b3da-b1882dfa5e11|34452796-c73a-4cfc-8682-9a7621f6628c|1990-11-03|NA       |8ac9185a-b37d-49ff-b3da-b1882dfa5e11|2019-01-16 11:05:57|2019-01-28 11:52:08|28          |0                 |6                 |0                 |2019-03-13 11:05:57|56       |1                     |0                     |\n",
      "+----------+----------+------------------------------------+------------------------------------+------+-----------------------------------------+-----+---------+---------+----------+------------------------------------+------------------------------------+------------------------------------+----------+---------+------------------------------------+-------------------+-------------------+------------+------------------+------------------+------------------+-------------------+---------+----------------------+----------------------+\n",
      "only showing top 5 rows\n",
      "\n"
     ]
    },
    {
     "name": "stderr",
     "output_type": "stream",
     "text": [
      "                                                                                \r"
     ]
    },
    {
     "name": "stdout",
     "output_type": "stream",
     "text": [
      "+----------+----------+------------------------------------+------------------------------------+------+---------------------------------------------------+-----+---------+---------+----------+--------------------------+------------------------------------+------------------------------------+----------+----------+------------------------------------+-------------------+-------------------+------------+------------------+------------------+------------------+-------------------+---------+----------------------+----------------------+\n",
      "|med_START |med_STOP  |med_PATIENT                         |ENCOUNTER                           |CODE  |DESCRIPTION                                        |COST |DISPENSES|TOTALCOST|REASONCODE|REASONDESCRIPTION         |pat_Id                              |enc_Id                              |BIRTHDATE |DEATHDATE |enc_PATIENT_id                      |enc_START          |enc_STOP           |AGE_AT_VISIT|DEATH_AT_VISIT_IND|COUNT_CURRENT_MEDS|CURRENT_OPIOID_IND|next_enc_START     |diff_days|READMISSION_90_DAY_IND|READMISSION_30_DAY_IND|\n",
      "+----------+----------+------------------------------------+------------------------------------+------+---------------------------------------------------+-----+---------+---------+----------+--------------------------+------------------------------------+------------------------------------+----------+----------+------------------------------------+-------------------+-------------------+------------+------------------+------------------+------------------+-------------------+---------+----------------------+----------------------+\n",
      "|2010-02-23|2010-03-09|dacea80b-75dd-42d6-a5c0-be369c3e4ebf|8eb5ad3c-8952-4162-a93d-e2dbf8c8bb9e|562251|Amoxicillin 250 MG / Clavulanate 125 MG Oral Tablet|39.16|1        |39.16    |444814009 |Viral sinusitis (disorder)|dacea80b-75dd-42d6-a5c0-be369c3e4ebf|06b99d50-cb73-4f85-89be-49c5d0d39eba|1979-12-11|2009-08-24|dacea80b-75dd-42d6-a5c0-be369c3e4ebf|2009-07-23 01:30:34|2009-07-31 14:50:01|29          |0                 |2                 |0                 |2009-08-20 01:30:34|28       |1                     |1                     |\n",
      "+----------+----------+------------------------------------+------------------------------------+------+---------------------------------------------------+-----+---------+---------+----------+--------------------------+------------------------------------+------------------------------------+----------+----------+------------------------------------+-------------------+-------------------+------------+------------------+------------------+------------------+-------------------+---------+----------------------+----------------------+\n",
      "\n"
     ]
    },
    {
     "name": "stderr",
     "output_type": "stream",
     "text": [
      "                                                                                \r"
     ]
    },
    {
     "name": "stdout",
     "output_type": "stream",
     "text": [
      "+----------+----------+------------------------------------+------------------------------------+-------+-----------------------------------------------------------------------------------------------------------------+------+---------+---------+----------+---------------------------+------------------------------------+------------------------------------+----------+----------+------------------------------------+-------------------+-------------------+------------+------------------+------------------+------------------+----------------------+---------+----------------------+----------------------+\n",
      "|med_START |med_STOP  |med_PATIENT                         |ENCOUNTER                           |CODE   |DESCRIPTION                                                                                                      |COST  |DISPENSES|TOTALCOST|REASONCODE|REASONDESCRIPTION          |pat_Id                              |enc_Id                              |BIRTHDATE |DEATHDATE |enc_PATIENT_id                      |enc_START          |enc_STOP           |AGE_AT_VISIT|DEATH_AT_VISIT_IND|COUNT_CURRENT_MEDS|CURRENT_OPIOID_IND|FIRST_READMISSION_DATE|diff_days|READMISSION_90_DAY_IND|READMISSION_30_DAY_IND|\n",
      "+----------+----------+------------------------------------+------------------------------------+-------+-----------------------------------------------------------------------------------------------------------------+------+---------+---------+----------+---------------------------+------------------------------------+------------------------------------+----------+----------+------------------------------------+-------------------+-------------------+------------+------------------+------------------+------------------+----------------------+---------+----------------------+----------------------+\n",
      "|2012-04-29|2012-05-13|04aefd77-78d8-4590-a7fb-92b9a49df0f1|56bee2c3-70a2-4c41-892c-e321ae6a7633|1043400|Acetaminophen 21.7 MG/ML / Dextromethorphan Hydrobromide 1 MG/ML / doxylamine succinate 0.417 MG/ML Oral Solution|7.57  |1        |7.57     |10509002  |Acute bronchitis (disorder)|04aefd77-78d8-4590-a7fb-92b9a49df0f1|0ec793ed-8f41-4cf8-a759-0b5283f504a6|1980-08-05|2013-09-17|04aefd77-78d8-4590-a7fb-92b9a49df0f1|2006-02-11 20:07:38|2006-02-21 23:17:25|25          |0                 |2                 |0                 |N/A                   |0        |0                     |0                     |\n",
      "|2016-07-20|2016-08-10|04aefd77-78d8-4590-a7fb-92b9a49df0f1|61930df2-3874-41e7-9d4b-d208808e9a18|835900 |cycloSPORINE 50 MG Oral Capsule                                                                                  |311.51|1        |311.51   |24079001  |Atopic dermatitis          |04aefd77-78d8-4590-a7fb-92b9a49df0f1|0ec793ed-8f41-4cf8-a759-0b5283f504a6|1980-08-05|2013-09-17|04aefd77-78d8-4590-a7fb-92b9a49df0f1|2006-02-11 20:07:38|2006-02-21 23:17:25|25          |0                 |8                 |0                 |N/A                   |0        |0                     |0                     |\n",
      "|2016-07-20|2016-08-10|04aefd77-78d8-4590-a7fb-92b9a49df0f1|61930df2-3874-41e7-9d4b-d208808e9a18|106258 |Hydrocortisone 10 MG/ML Topical Cream                                                                            |4.75  |1        |4.75     |24079001  |Atopic dermatitis          |04aefd77-78d8-4590-a7fb-92b9a49df0f1|0ec793ed-8f41-4cf8-a759-0b5283f504a6|1980-08-05|2013-09-17|04aefd77-78d8-4590-a7fb-92b9a49df0f1|2006-02-11 20:07:38|2006-02-21 23:17:25|25          |0                 |8                 |0                 |N/A                   |0        |0                     |0                     |\n",
      "|2010-10-03|2010-10-10|04aefd77-78d8-4590-a7fb-92b9a49df0f1|7bfd94d3-eb72-4c28-bcf5-52df649ac136|562251 |Amoxicillin 250 MG / Clavulanate 125 MG Oral Tablet                                                              |63.53 |1        |63.53    |444814009 |Viral sinusitis (disorder) |04aefd77-78d8-4590-a7fb-92b9a49df0f1|0ec793ed-8f41-4cf8-a759-0b5283f504a6|1980-08-05|2013-09-17|04aefd77-78d8-4590-a7fb-92b9a49df0f1|2006-02-11 20:07:38|2006-02-21 23:17:25|25          |0                 |2                 |0                 |N/A                   |1250     |0                     |0                     |\n",
      "|2012-04-29|2012-05-13|04aefd77-78d8-4590-a7fb-92b9a49df0f1|56bee2c3-70a2-4c41-892c-e321ae6a7633|1043400|Acetaminophen 21.7 MG/ML / Dextromethorphan Hydrobromide 1 MG/ML / doxylamine succinate 0.417 MG/ML Oral Solution|7.57  |1        |7.57     |10509002  |Acute bronchitis (disorder)|04aefd77-78d8-4590-a7fb-92b9a49df0f1|5fe7c493-9eb6-4663-9a2f-2d795277be83|1980-08-05|2013-09-17|04aefd77-78d8-4590-a7fb-92b9a49df0f1|2009-07-15 20:07:38|2009-07-25 04:32:45|28          |0                 |2                 |0                 |N/A                   |0        |0                     |0                     |\n",
      "+----------+----------+------------------------------------+------------------------------------+-------+-----------------------------------------------------------------------------------------------------------------+------+---------+---------+----------+---------------------------+------------------------------------+------------------------------------+----------+----------+------------------------------------+-------------------+-------------------+------------+------------------+------------------+------------------+----------------------+---------+----------------------+----------------------+\n",
      "only showing top 5 rows\n",
      "\n"
     ]
    }
   ],
   "source": [
    "from pyspark.sql import functions as F\n",
    "from pyspark.sql.window import Window\n",
    "\n",
    "# Assume cohort_df has at least the following columns: PATIENT and enc_STOP.\n",
    "# Define a window partitioned by PATIENT and ordered by enc_STOP.\n",
    "patient_window = Window.partitionBy(\"pat_Id\").orderBy(F.col(\"enc_STOP\").cast(\"timestamp\"))\n",
    "\n",
    "# Get the next encounter's start date using lead().\n",
    "df_with_next = cohort_df.withColumn(\"next_enc_START\", F.lead(\"enc_START\").over(patient_window))\n",
    "\n",
    "# Calculate the difference in days between the current encounter and the next encounter.\n",
    "df_with_diff = df_with_next.withColumn(\"diff_days\", F.datediff(F.col(\"next_enc_START\"), F.col(\"enc_START\")))\n",
    "\n",
    "# Create the READMISSION_90_DAY_IND indicator: flag as 1 if the next encounter is within 90 days, else 0.\n",
    "df_with_indicator = df_with_diff.withColumn(\n",
    "    \"READMISSION_90_DAY_IND\",\n",
    "    F.when((F.col(\"diff_days\").isNotNull()) & \\\n",
    "           (F.col(\"diff_days\") != 0) & \\\n",
    "            (F.col(\"diff_days\") <= 90), F.lit(1)).otherwise(F.lit(0))\n",
    ")\n",
    "\n",
    "df_with_indicator = df_with_indicator.withColumn(\n",
    "    \"READMISSION_30_DAY_IND\",\n",
    "    F.when((F.col(\"diff_days\").isNotNull()) & \\\n",
    "           (F.col(\"diff_days\") != 0) & \\\n",
    "            (F.col(\"diff_days\") <= 30), F.lit(1)).otherwise(F.lit(0))\n",
    ")\n",
    "# df_with_indicator.show(5, truncate=False)\n",
    "df_with_indicator.filter(F.col(\"diff_days\").between(1, 89)).show(5, truncate=False)\n",
    "df_with_indicator.filter(F.col(\"READMISSION_30_DAY_IND\") == 1).show(5, truncate=False)\n",
    "\n",
    "# 4. Update next_enc_START to \"N/A\" when diff_days equals 0.\n",
    "df_with_indicator = df_with_indicator.withColumn(\n",
    "    \"next_enc_START\",\n",
    "    F.when((F.col(\"diff_days\") <= 90) & (F.col(\"diff_days\") != 0), F.col(\"next_enc_START\")).otherwise(F.lit(\"N/A\"))\n",
    ")\n",
    "# cohort_df = df_with_indicator.drop( \"diff_days\")\n",
    "df_with_indicator = df_with_indicator.withColumnRenamed('next_enc_START', 'FIRST_READMISSION_DATE')\n",
    "df_with_indicator.show(5, truncate=False)\n"
   ]
  },
  {
   "cell_type": "code",
   "execution_count": 13,
   "id": "1d5a1450",
   "metadata": {},
   "outputs": [
    {
     "name": "stderr",
     "output_type": "stream",
     "text": [
      "                                                                                \r"
     ]
    },
    {
     "name": "stdout",
     "output_type": "stream",
     "text": [
      "+----------+----------+------------------------------------+------------------------------------+------+-----------------------------------------+-----+---------+---------+----------+------------------------------------+------------------------------------+------------------------------------+----------+---------+------------------------------------+-------------------+-------------------+------------+------------------+------------------+------------------+----------------------+---------+----------------------+----------------------+\n",
      "|med_START |med_STOP  |med_PATIENT                         |ENCOUNTER                           |CODE  |DESCRIPTION                              |COST |DISPENSES|TOTALCOST|REASONCODE|REASONDESCRIPTION                   |pat_Id                              |enc_Id                              |BIRTHDATE |DEATHDATE|enc_PATIENT_id                      |enc_START          |enc_STOP           |AGE_AT_VISIT|DEATH_AT_VISIT_IND|COUNT_CURRENT_MEDS|CURRENT_OPIOID_IND|FIRST_READMISSION_DATE|diff_days|READMISSION_90_DAY_IND|READMISSION_30_DAY_IND|\n",
      "+----------+----------+------------------------------------+------------------------------------+------+-----------------------------------------+-----+---------+---------+----------+------------------------------------+------------------------------------+------------------------------------+----------+---------+------------------------------------+-------------------+-------------------+------------+------------------+------------------+------------------+----------------------+---------+----------------------+----------------------+\n",
      "|2015-07-18|2016-07-12|111e10b5-1b38-4aeb-a73f-284b6c2190b9|8c45a52a-fe71-4bc5-ac30-f0220b96fb43|831533|Errin 28 Day Pack                        |20.55|12       |246.6    |NA        |NA                                  |111e10b5-1b38-4aeb-a73f-284b6c2190b9|52e0e16a-7115-4de3-bf9a-b58d009f0ebc|1989-03-11|NA       |111e10b5-1b38-4aeb-a73f-284b6c2190b9|2012-09-25 23:40:06|2012-10-02 21:13:34|23          |0                 |4                 |0                 |2012-12-11 23:40:06   |77       |1                     |0                     |\n",
      "|2018-08-01|NA        |58240155-9e6a-486f-ae16-3d82c037f758|1aa93ef1-22c9-4c5d-800c-112b1038feb4|389221|Etonogestrel 68 MG Drug Implant          |503.3|11       |5536.3   |NA        |NA                                  |58240155-9e6a-486f-ae16-3d82c037f758|4768d1d1-d298-4964-b32f-8cab03a2acf1|1989-08-17|NA       |58240155-9e6a-486f-ae16-3d82c037f758|2018-04-30 20:30:35|2018-05-07 03:39:09|28          |0                 |4                 |0                 |2018-07-20 20:30:35   |81       |1                     |0                     |\n",
      "|2013-01-17|2013-01-26|68b96ec6-1679-4dfe-9bc4-d47d267a3f29|da632ca0-6159-4a1c-9b69-60ce37462874|834102|Penicillin V Potassium 500 MG Oral Tablet|9.89 |1        |9.89     |43878008  |Streptococcal sore throat (disorder)|68b96ec6-1679-4dfe-9bc4-d47d267a3f29|a6eec756-c5ea-4aeb-8b6b-1a28a5be3d92|1976-10-16|NA       |68b96ec6-1679-4dfe-9bc4-d47d267a3f29|2010-08-25 06:41:50|2010-08-31 11:31:42|33          |0                 |4                 |0                 |2010-10-27 06:41:50   |63       |1                     |0                     |\n",
      "|2013-01-17|2013-01-26|68b96ec6-1679-4dfe-9bc4-d47d267a3f29|da632ca0-6159-4a1c-9b69-60ce37462874|834102|Penicillin V Potassium 500 MG Oral Tablet|9.89 |1        |9.89     |43878008  |Streptococcal sore throat (disorder)|68b96ec6-1679-4dfe-9bc4-d47d267a3f29|887bd7ac-d982-41ce-be7e-5ce7aafc2c71|1976-10-16|NA       |68b96ec6-1679-4dfe-9bc4-d47d267a3f29|2010-10-27 06:41:50|2010-11-04 18:47:46|34          |0                 |4                 |0                 |2011-01-23 06:41:50   |88       |1                     |0                     |\n",
      "|2019-06-03|NA        |8ac9185a-b37d-49ff-b3da-b1882dfa5e11|b4874308-8e3e-4f18-9840-c178745539d1|749762|Seasonique 91 Day Pack                   |37.32|1        |37.32    |NA        |NA                                  |8ac9185a-b37d-49ff-b3da-b1882dfa5e11|34452796-c73a-4cfc-8682-9a7621f6628c|1990-11-03|NA       |8ac9185a-b37d-49ff-b3da-b1882dfa5e11|2019-01-16 11:05:57|2019-01-28 11:52:08|28          |0                 |6                 |0                 |2019-03-13 11:05:57   |56       |1                     |0                     |\n",
      "+----------+----------+------------------------------------+------------------------------------+------+-----------------------------------------+-----+---------+---------+----------+------------------------------------+------------------------------------+------------------------------------+----------+---------+------------------------------------+-------------------+-------------------+------------+------------------+------------------+------------------+----------------------+---------+----------------------+----------------------+\n",
      "only showing top 5 rows\n",
      "\n"
     ]
    },
    {
     "name": "stderr",
     "output_type": "stream",
     "text": [
      "                                                                                \r"
     ]
    },
    {
     "name": "stdout",
     "output_type": "stream",
     "text": [
      "+----------+----------+------------------------------------+------------------------------------+------+---------------------------------------------------+-----+---------+---------+----------+--------------------------+------------------------------------+------------------------------------+----------+----------+------------------------------------+-------------------+-------------------+------------+------------------+------------------+------------------+----------------------+---------+----------------------+----------------------+\n",
      "|med_START |med_STOP  |med_PATIENT                         |ENCOUNTER                           |CODE  |DESCRIPTION                                        |COST |DISPENSES|TOTALCOST|REASONCODE|REASONDESCRIPTION         |pat_Id                              |enc_Id                              |BIRTHDATE |DEATHDATE |enc_PATIENT_id                      |enc_START          |enc_STOP           |AGE_AT_VISIT|DEATH_AT_VISIT_IND|COUNT_CURRENT_MEDS|CURRENT_OPIOID_IND|FIRST_READMISSION_DATE|diff_days|READMISSION_90_DAY_IND|READMISSION_30_DAY_IND|\n",
      "+----------+----------+------------------------------------+------------------------------------+------+---------------------------------------------------+-----+---------+---------+----------+--------------------------+------------------------------------+------------------------------------+----------+----------+------------------------------------+-------------------+-------------------+------------+------------------+------------------+------------------+----------------------+---------+----------------------+----------------------+\n",
      "|2010-02-23|2010-03-09|dacea80b-75dd-42d6-a5c0-be369c3e4ebf|8eb5ad3c-8952-4162-a93d-e2dbf8c8bb9e|562251|Amoxicillin 250 MG / Clavulanate 125 MG Oral Tablet|39.16|1        |39.16    |444814009 |Viral sinusitis (disorder)|dacea80b-75dd-42d6-a5c0-be369c3e4ebf|06b99d50-cb73-4f85-89be-49c5d0d39eba|1979-12-11|2009-08-24|dacea80b-75dd-42d6-a5c0-be369c3e4ebf|2009-07-23 01:30:34|2009-07-31 14:50:01|29          |0                 |2                 |0                 |2009-08-20 01:30:34   |28       |1                     |1                     |\n",
      "+----------+----------+------------------------------------+------------------------------------+------+---------------------------------------------------+-----+---------+---------+----------+--------------------------+------------------------------------+------------------------------------+----------+----------+------------------------------------+-------------------+-------------------+------------+------------------+------------------+------------------+----------------------+---------+----------------------+----------------------+\n",
      "\n"
     ]
    }
   ],
   "source": [
    "df_with_indicator.filter(F.col(\"diff_days\").between(1, 89)).show(5, truncate=False)\n",
    "df_with_indicator.filter(F.col(\"READMISSION_30_DAY_IND\") == 1).show(5, truncate=False)"
   ]
  },
  {
   "cell_type": "code",
   "execution_count": null,
   "id": "2d343467",
   "metadata": {},
   "outputs": [],
   "source": []
  }
 ],
 "metadata": {
  "kernelspec": {
   "display_name": "venv",
   "language": "python",
   "name": "python3"
  },
  "language_info": {
   "codemirror_mode": {
    "name": "ipython",
    "version": 3
   },
   "file_extension": ".py",
   "mimetype": "text/x-python",
   "name": "python",
   "nbconvert_exporter": "python",
   "pygments_lexer": "ipython3",
   "version": "3.11.2"
  }
 },
 "nbformat": 4,
 "nbformat_minor": 5
}
